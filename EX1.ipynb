{
 "cells": [
  {
   "cell_type": "code",
   "execution_count": 25,
   "metadata": {
    "collapsed": true
   },
   "outputs": [],
   "source": [
    "import numpy as np"
   ]
  },
  {
   "cell_type": "code",
   "execution_count": 26,
   "metadata": {},
   "outputs": [],
   "source": [
    "import get_data"
   ]
  },
  {
   "cell_type": "code",
   "execution_count": 86,
   "metadata": {},
   "outputs": [
    {
     "data": {
      "text/plain": [
       "Index(['caseid', 'pregordr', 'howpreg_n', 'howpreg_p', 'moscurrp', 'nowprgdk',\n",
       "       'pregend1', 'pregend2', 'nbrnaliv', 'multbrth',\n",
       "       ...\n",
       "       'laborfor_i', 'religion_i', 'metro_i', 'basewgt', 'adj_mod_basewgt',\n",
       "       'finalwgt', 'secu_p', 'sest', 'cmintvw', 'totalwgt_lb'],\n",
       "      dtype='object', length=244)"
      ]
     },
     "execution_count": 86,
     "metadata": {},
     "output_type": "execute_result"
    }
   ],
   "source": [
    "Preg_df = get_data.ReadFemPreg()\n",
    "Preg_df.columns"
   ]
  },
  {
   "cell_type": "code",
   "execution_count": 88,
   "metadata": {},
   "outputs": [
    {
     "data": {
      "text/plain": [
       "Index(['caseid', 'rscrinf', 'rdormres', 'rostscrn', 'rscreenhisp',\n",
       "       'rscreenrace', 'age_a', 'age_r', 'cmbirth', 'agescrn',\n",
       "       ...\n",
       "       'pubassis_i', 'basewgt', 'adj_mod_basewgt', 'finalwgt', 'secu_r',\n",
       "       'sest', 'cmintvw', 'cmlstyr', 'screentime', 'intvlngth'],\n",
       "      dtype='object', length=3087)"
      ]
     },
     "execution_count": 88,
     "metadata": {},
     "output_type": "execute_result"
    }
   ],
   "source": [
    "list_resp"
   ]
  },
  {
   "cell_type": "markdown",
   "metadata": {},
   "source": [
    "###   Variables \n",
    "   \n",
    "   caseid is the integer ID of the respondent.\n",
    "\n",
    "    wksgest is the integer duration of the pregnancy in weeks.\n",
    "\n",
    "    outcome is an integer code for the outcome of the pregnancy. The code 1 indicates a live birth.\n",
    "\n",
    "    pregordr is a pregnancy serial number; for example, the code for a respondent’s first pregnancy is 1, for the second pregnancy is 2, and so on.\n",
    "\n",
    "    birthord is a serial number for live births; the code for a respondent’s first child is 1, and so on. For outcomes other than live births, this field is blank.\n",
    "\n",
    "    birthwgt_lb and birthwgt_oz contain the pounds and ounces parts of the birth weight of the baby.\n",
    "\n",
    "    agepreg is the mother’s age at the end of the pregnancy.\n",
    "\n",
    "    finalwgt is the statistical weight associated with the respondent. It is a floating-point value that indicates the number of people in the U.S. population this respondent represents."
   ]
  },
  {
   "cell_type": "code",
   "execution_count": 89,
   "metadata": {},
   "outputs": [],
   "source": [
    "\n",
    "Preg_df=Preg_df[['caseid', 'wksgest','outcome','pregordr','birthord','birthwgt_lb','birthwgt_oz','agepreg','finalwgt']]"
   ]
  },
  {
   "cell_type": "code",
   "execution_count": 90,
   "metadata": {},
   "outputs": [
    {
     "data": {
      "text/plain": [
       "13593"
      ]
     },
     "execution_count": 90,
     "metadata": {},
     "output_type": "execute_result"
    }
   ],
   "source": [
    "len(Preg_df)"
   ]
  },
  {
   "cell_type": "code",
   "execution_count": 93,
   "metadata": {},
   "outputs": [
    {
     "data": {
      "text/html": [
       "<div>\n",
       "<style>\n",
       "    .dataframe thead tr:only-child th {\n",
       "        text-align: right;\n",
       "    }\n",
       "\n",
       "    .dataframe thead th {\n",
       "        text-align: left;\n",
       "    }\n",
       "\n",
       "    .dataframe tbody tr th {\n",
       "        vertical-align: top;\n",
       "    }\n",
       "</style>\n",
       "<table border=\"1\" class=\"dataframe\">\n",
       "  <thead>\n",
       "    <tr style=\"text-align: right;\">\n",
       "      <th></th>\n",
       "      <th>caseid</th>\n",
       "      <th>wksgest</th>\n",
       "      <th>outcome</th>\n",
       "      <th>pregordr</th>\n",
       "      <th>birthord</th>\n",
       "      <th>birthwgt_lb</th>\n",
       "      <th>birthwgt_oz</th>\n",
       "      <th>agepreg</th>\n",
       "      <th>finalwgt</th>\n",
       "    </tr>\n",
       "  </thead>\n",
       "  <tbody>\n",
       "    <tr>\n",
       "      <th>0</th>\n",
       "      <td>1</td>\n",
       "      <td>39.0</td>\n",
       "      <td>1</td>\n",
       "      <td>1</td>\n",
       "      <td>1.0</td>\n",
       "      <td>8.0</td>\n",
       "      <td>13.0</td>\n",
       "      <td>33.16</td>\n",
       "      <td>6448.271112</td>\n",
       "    </tr>\n",
       "    <tr>\n",
       "      <th>1</th>\n",
       "      <td>1</td>\n",
       "      <td>39.0</td>\n",
       "      <td>1</td>\n",
       "      <td>2</td>\n",
       "      <td>2.0</td>\n",
       "      <td>7.0</td>\n",
       "      <td>14.0</td>\n",
       "      <td>39.25</td>\n",
       "      <td>6448.271112</td>\n",
       "    </tr>\n",
       "    <tr>\n",
       "      <th>2</th>\n",
       "      <td>2</td>\n",
       "      <td>39.0</td>\n",
       "      <td>1</td>\n",
       "      <td>1</td>\n",
       "      <td>1.0</td>\n",
       "      <td>9.0</td>\n",
       "      <td>2.0</td>\n",
       "      <td>14.33</td>\n",
       "      <td>12999.542264</td>\n",
       "    </tr>\n",
       "    <tr>\n",
       "      <th>3</th>\n",
       "      <td>2</td>\n",
       "      <td>39.0</td>\n",
       "      <td>1</td>\n",
       "      <td>2</td>\n",
       "      <td>2.0</td>\n",
       "      <td>7.0</td>\n",
       "      <td>0.0</td>\n",
       "      <td>17.83</td>\n",
       "      <td>12999.542264</td>\n",
       "    </tr>\n",
       "    <tr>\n",
       "      <th>4</th>\n",
       "      <td>2</td>\n",
       "      <td>39.0</td>\n",
       "      <td>1</td>\n",
       "      <td>3</td>\n",
       "      <td>3.0</td>\n",
       "      <td>6.0</td>\n",
       "      <td>3.0</td>\n",
       "      <td>18.33</td>\n",
       "      <td>12999.542264</td>\n",
       "    </tr>\n",
       "  </tbody>\n",
       "</table>\n",
       "</div>"
      ],
      "text/plain": [
       "   caseid  wksgest  outcome  pregordr  birthord  birthwgt_lb  birthwgt_oz  \\\n",
       "0       1     39.0        1         1       1.0          8.0         13.0   \n",
       "1       1     39.0        1         2       2.0          7.0         14.0   \n",
       "2       2     39.0        1         1       1.0          9.0          2.0   \n",
       "3       2     39.0        1         2       2.0          7.0          0.0   \n",
       "4       2     39.0        1         3       3.0          6.0          3.0   \n",
       "\n",
       "   agepreg      finalwgt  \n",
       "0    33.16   6448.271112  \n",
       "1    39.25   6448.271112  \n",
       "2    14.33  12999.542264  \n",
       "3    17.83  12999.542264  \n",
       "4    18.33  12999.542264  "
      ]
     },
     "execution_count": 93,
     "metadata": {},
     "output_type": "execute_result"
    }
   ],
   "source": [
    "Preg_df.head()"
   ]
  },
  {
   "cell_type": "code",
   "execution_count": 77,
   "metadata": {},
   "outputs": [
    {
     "data": {
      "text/plain": [
       "9004"
      ]
     },
     "execution_count": 77,
     "metadata": {},
     "output_type": "execute_result"
    }
   ],
   "source": [
    "Preg_df=Preg_df.dropna()\n",
    "len(Preg_df)"
   ]
  },
  {
   "cell_type": "markdown",
   "metadata": {},
   "source": [
    "### Question 1"
   ]
  },
  {
   "cell_type": "markdown",
   "metadata": {},
   "source": [
    "###### count the number of live births."
   ]
  },
  {
   "cell_type": "code",
   "execution_count": 94,
   "metadata": {},
   "outputs": [
    {
     "name": "stdout",
     "output_type": "stream",
     "text": [
      "live_births are: 9148\n"
     ]
    }
   ],
   "source": [
    "outcome=Preg_df['outcome']\n",
    "count=0\n",
    "for i in outcome:\n",
    "    if i==1:\n",
    "        count = count+1\n",
    "print(\"live_births are: %d\" %count)\n",
    "     \n"
   ]
  },
  {
   "cell_type": "markdown",
   "metadata": {},
   "source": [
    "### Question 2"
   ]
  },
  {
   "cell_type": "markdown",
   "metadata": {},
   "source": [
    "###### Get live birth records into two groups, one for first babies and one for the others"
   ]
  },
  {
   "cell_type": "code",
   "execution_count": 95,
   "metadata": {},
   "outputs": [
    {
     "name": "stdout",
     "output_type": "stream",
     "text": [
      "live_births that are first babies: 3368\n",
      "live_births others: 5780\n"
     ]
    }
   ],
   "source": [
    "preg_order=Preg_df['pregordr']\n",
    "count=0\n",
    "n_count =0\n",
    "for i in range(len(Preg_df)):\n",
    "    if Preg_df['pregordr'][i]==1 and Preg_df['outcome'][i] ==1 :\n",
    "        count=count+1\n",
    "    elif Preg_df['pregordr'][i]!=1 and Preg_df['outcome'][i] ==1:\n",
    "            n_count = n_count+1\n",
    "            \n",
    "print(\"live_births that are first babies: %d\" %count)\n",
    "print(\"live_births others: %d\" %n_count)"
   ]
  },
  {
   "cell_type": "markdown",
   "metadata": {},
   "source": [
    "### Question 3"
   ]
  },
  {
   "cell_type": "markdown",
   "metadata": {},
   "source": [
    "###### Compute the average pregnancy length (in weeks) for first babies and others. Is there a difference between the groups? How big is it?"
   ]
  },
  {
   "cell_type": "code",
   "execution_count": 117,
   "metadata": {},
   "outputs": [
    {
     "name": "stdout",
     "output_type": "stream",
     "text": [
      "average pregnancy length for first baby: 29.572244\n",
      "average pregnancy length for others: 30.279224\n"
     ]
    }
   ],
   "source": [
    "\n",
    "period =[]\n",
    "period2 =[]\n",
    "for i in range(len(preg_order)):\n",
    "    if Preg_df['pregordr'][i]==1 :\n",
    "        period.append(Preg_df['wksgest'][i])\n",
    "    else:\n",
    "        period2.append(Preg_df['wksgest'][i])\n",
    "period=np.asarray(period)\n",
    "np.nanmean(period)\n",
    "print(\"average pregnancy length for first baby: %f\" %np.nanmean(period))\n",
    "\n",
    "print(\"average pregnancy length for others: %f\" %np.nanmean(period2))\n",
    "\n",
    "\n",
    "\n",
    "\n"
   ]
  },
  {
   "cell_type": "code",
   "execution_count": null,
   "metadata": {
    "collapsed": true
   },
   "outputs": [],
   "source": []
  }
 ],
 "metadata": {
  "kernelspec": {
   "display_name": "Python 3",
   "language": "python",
   "name": "python3"
  }
 },
 "nbformat": 4,
 "nbformat_minor": 2
}
